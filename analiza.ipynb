{
 "cells": [
  {
   "cell_type": "markdown",
   "id": "61bf788b",
   "metadata": {},
   "source": [
    "# ANALIZA PODATKOV"
   ]
  },
  {
   "cell_type": "code",
   "execution_count": 8,
   "id": "09064e41",
   "metadata": {},
   "outputs": [],
   "source": [
    "import pandas as pd\n",
    "import analiza_funkcije\n",
    "\n",
    "filmi = pd.read_csv(\"filmi.csv\")"
   ]
  },
  {
   "cell_type": "code",
   "execution_count": 9,
   "id": "9cb24ada",
   "metadata": {},
   "outputs": [],
   "source": [
    "filmi[\"razlika_v_ocenah\"] = abs(filmi[\"ocena_rotten_tomatoes\"] / 10 - filmi[\"ocena_imdb\"])"
   ]
  },
  {
   "cell_type": "code",
   "execution_count": 10,
   "id": "9458c9fb",
   "metadata": {},
   "outputs": [],
   "source": [
    "filmi[\"desetletje\"] = (filmi[\"leto\"] // 10) * 10"
   ]
  },
  {
   "cell_type": "code",
   "execution_count": 11,
   "id": "ea588504",
   "metadata": {},
   "outputs": [],
   "source": [
    "filmi[\"visja_ocena\"] = filmi.apply(analiza_funkcije.doloci_visjo_oceno, axis=1)"
   ]
  },
  {
   "cell_type": "code",
   "execution_count": null,
   "id": "b506507a",
   "metadata": {},
   "outputs": [],
   "source": [
    "#za narediti:\n",
    "#katero leto ima koliko filmov"
   ]
  }
 ],
 "metadata": {
  "kernelspec": {
   "display_name": "Python 3",
   "language": "python",
   "name": "python3"
  },
  "language_info": {
   "codemirror_mode": {
    "name": "ipython",
    "version": 3
   },
   "file_extension": ".py",
   "mimetype": "text/x-python",
   "name": "python",
   "nbconvert_exporter": "python",
   "pygments_lexer": "ipython3",
   "version": "3.13.2"
  }
 },
 "nbformat": 4,
 "nbformat_minor": 5
}
